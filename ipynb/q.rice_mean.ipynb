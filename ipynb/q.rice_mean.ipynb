{
 "cells": [
  {
   "cell_type": "markdown",
   "id": "5fe38961",
   "metadata": {},
   "source": [
    "### 1. 載入csv檔案"
   ]
  },
  {
   "cell_type": "code",
   "execution_count": 10,
   "id": "838aceb5",
   "metadata": {},
   "outputs": [],
   "source": [
    "q.rice=read.csv(\"../csv/乾隆台灣米價.csv\", header=TRUE)"
   ]
  },
  {
   "cell_type": "code",
   "execution_count": 7,
   "id": "1611d3f4",
   "metadata": {},
   "outputs": [
    {
     "data": {
      "text/html": [
       "<table class=\"dataframe\">\n",
       "<caption>A data.frame: 16 × 13</caption>\n",
       "<thead>\n",
       "\t<tr><th></th><th scope=col>year</th><th scope=col>Jan</th><th scope=col>Feb</th><th scope=col>Mar</th><th scope=col>Apr</th><th scope=col>May</th><th scope=col>Jun</th><th scope=col>Jul</th><th scope=col>Aug</th><th scope=col>Set</th><th scope=col>Oct</th><th scope=col>Nov</th><th scope=col>Dec</th></tr>\n",
       "\t<tr><th></th><th scope=col>&lt;dbl&gt;</th><th scope=col>&lt;dbl&gt;</th><th scope=col>&lt;dbl&gt;</th><th scope=col>&lt;dbl&gt;</th><th scope=col>&lt;dbl&gt;</th><th scope=col>&lt;dbl&gt;</th><th scope=col>&lt;dbl&gt;</th><th scope=col>&lt;dbl&gt;</th><th scope=col>&lt;dbl&gt;</th><th scope=col>&lt;dbl&gt;</th><th scope=col>&lt;dbl&gt;</th><th scope=col>&lt;dbl&gt;</th><th scope=col>&lt;lgl&gt;</th></tr>\n",
       "</thead>\n",
       "<tbody>\n",
       "\t<tr><th scope=row>1747</th><td>  NA</td><td> NA</td><td>  NA</td><td>  NA</td><td>  NA</td><td>1.50</td><td>1.30</td><td>  NA</td><td>   NA</td><td>1.250</td><td>   NA</td><td>1.45</td><td>NA</td></tr>\n",
       "\t<tr><th scope=row>1748</th><td>1.55</td><td>1.2</td><td>  NA</td><td>1.70</td><td>1.55</td><td>  NA</td><td>  NA</td><td>1.76</td><td>1.920</td><td>1.800</td><td>1.840</td><td>  NA</td><td>NA</td></tr>\n",
       "\t<tr><th scope=row>1749</th><td>  NA</td><td> NA</td><td>  NA</td><td>  NA</td><td>2.00</td><td>1.65</td><td>  NA</td><td>1.35</td><td>   NA</td><td>   NA</td><td>   NA</td><td>  NA</td><td>NA</td></tr>\n",
       "\t<tr><th scope=row>1751</th><td>1.35</td><td> NA</td><td>  NA</td><td>  NA</td><td>  NA</td><td>1.30</td><td>1.35</td><td>1.35</td><td>1.425</td><td>1.450</td><td>   NA</td><td>1.35</td><td>NA</td></tr>\n",
       "\t<tr><th scope=row>1752</th><td>1.25</td><td> NA</td><td>2.35</td><td>1.90</td><td>  NA</td><td>  NA</td><td>  NA</td><td>  NA</td><td>1.775</td><td>   NA</td><td>   NA</td><td>1.65</td><td>NA</td></tr>\n",
       "\t<tr><th scope=row>1753</th><td>  NA</td><td> NA</td><td>  NA</td><td>  NA</td><td>1.85</td><td>  NA</td><td>1.65</td><td>  NA</td><td>   NA</td><td>   NA</td><td>1.600</td><td>1.25</td><td>NA</td></tr>\n",
       "\t<tr><th scope=row>1754</th><td>  NA</td><td> NA</td><td>  NA</td><td>  NA</td><td>  NA</td><td>1.65</td><td>  NA</td><td>  NA</td><td>2.250</td><td>2.000</td><td>2.450</td><td>2.20</td><td>NA</td></tr>\n",
       "\t<tr><th scope=row>1755</th><td>  NA</td><td>2.6</td><td>2.35</td><td>2.40</td><td>2.05</td><td>2.25</td><td>1.60</td><td>1.55</td><td>1.600</td><td>1.650</td><td>1.700</td><td>  NA</td><td>NA</td></tr>\n",
       "\t<tr><th scope=row>1756</th><td>  NA</td><td>1.3</td><td>1.60</td><td>1.40</td><td>  NA</td><td>  NA</td><td>1.35</td><td>1.30</td><td>1.225</td><td>   NA</td><td>   NA</td><td>  NA</td><td>NA</td></tr>\n",
       "\t<tr><th scope=row>1763</th><td>  NA</td><td> NA</td><td>1.35</td><td>  NA</td><td>1.30</td><td>  NA</td><td>  NA</td><td>  NA</td><td>   NA</td><td>   NA</td><td>   NA</td><td>1.32</td><td>NA</td></tr>\n",
       "\t<tr><th scope=row>1764</th><td>  NA</td><td>1.6</td><td>1.80</td><td>1.75</td><td>  NA</td><td>1.65</td><td>  NA</td><td>1.70</td><td>   NA</td><td>1.625</td><td>1.750</td><td>  NA</td><td>NA</td></tr>\n",
       "\t<tr><th scope=row>1765</th><td>1.70</td><td> NA</td><td>  NA</td><td>1.55</td><td>1.65</td><td>1.65</td><td>1.60</td><td>  NA</td><td>   NA</td><td>1.650</td><td>1.400</td><td>  NA</td><td>NA</td></tr>\n",
       "\t<tr><th scope=row>1767</th><td>  NA</td><td> NA</td><td>  NA</td><td>  NA</td><td>  NA</td><td>  NA</td><td>1.50</td><td>  NA</td><td>1.450</td><td>1.450</td><td>1.525</td><td>  NA</td><td>NA</td></tr>\n",
       "\t<tr><th scope=row>1774</th><td>  NA</td><td> NA</td><td>  NA</td><td>1.50</td><td>  NA</td><td>1.45</td><td>  NA</td><td>  NA</td><td>   NA</td><td>1.450</td><td>   NA</td><td>  NA</td><td>NA</td></tr>\n",
       "\t<tr><th scope=row>1777</th><td>  NA</td><td> NA</td><td>  NA</td><td>  NA</td><td>1.40</td><td>  NA</td><td>1.45</td><td>  NA</td><td>   NA</td><td>   NA</td><td>   NA</td><td>1.40</td><td>NA</td></tr>\n",
       "\t<tr><th scope=row>1778</th><td>  NA</td><td> NA</td><td>  NA</td><td>  NA</td><td>1.35</td><td>  NA</td><td>1.30</td><td>  NA</td><td>   NA</td><td>1.350</td><td>1.300</td><td>  NA</td><td>NA</td></tr>\n",
       "</tbody>\n",
       "</table>\n"
      ],
      "text/latex": [
       "A data.frame: 16 × 13\n",
       "\\begin{tabular}{r|lllllllllllll}\n",
       "  & year & Jan & Feb & Mar & Apr & May & Jun & Jul & Aug & Set & Oct & Nov & Dec\\\\\n",
       "  & <dbl> & <dbl> & <dbl> & <dbl> & <dbl> & <dbl> & <dbl> & <dbl> & <dbl> & <dbl> & <dbl> & <dbl> & <lgl>\\\\\n",
       "\\hline\n",
       "\t1747 &   NA &  NA &   NA &   NA &   NA & 1.50 & 1.30 &   NA &    NA & 1.250 &    NA & 1.45 & NA\\\\\n",
       "\t1748 & 1.55 & 1.2 &   NA & 1.70 & 1.55 &   NA &   NA & 1.76 & 1.920 & 1.800 & 1.840 &   NA & NA\\\\\n",
       "\t1749 &   NA &  NA &   NA &   NA & 2.00 & 1.65 &   NA & 1.35 &    NA &    NA &    NA &   NA & NA\\\\\n",
       "\t1751 & 1.35 &  NA &   NA &   NA &   NA & 1.30 & 1.35 & 1.35 & 1.425 & 1.450 &    NA & 1.35 & NA\\\\\n",
       "\t1752 & 1.25 &  NA & 2.35 & 1.90 &   NA &   NA &   NA &   NA & 1.775 &    NA &    NA & 1.65 & NA\\\\\n",
       "\t1753 &   NA &  NA &   NA &   NA & 1.85 &   NA & 1.65 &   NA &    NA &    NA & 1.600 & 1.25 & NA\\\\\n",
       "\t1754 &   NA &  NA &   NA &   NA &   NA & 1.65 &   NA &   NA & 2.250 & 2.000 & 2.450 & 2.20 & NA\\\\\n",
       "\t1755 &   NA & 2.6 & 2.35 & 2.40 & 2.05 & 2.25 & 1.60 & 1.55 & 1.600 & 1.650 & 1.700 &   NA & NA\\\\\n",
       "\t1756 &   NA & 1.3 & 1.60 & 1.40 &   NA &   NA & 1.35 & 1.30 & 1.225 &    NA &    NA &   NA & NA\\\\\n",
       "\t1763 &   NA &  NA & 1.35 &   NA & 1.30 &   NA &   NA &   NA &    NA &    NA &    NA & 1.32 & NA\\\\\n",
       "\t1764 &   NA & 1.6 & 1.80 & 1.75 &   NA & 1.65 &   NA & 1.70 &    NA & 1.625 & 1.750 &   NA & NA\\\\\n",
       "\t1765 & 1.70 &  NA &   NA & 1.55 & 1.65 & 1.65 & 1.60 &   NA &    NA & 1.650 & 1.400 &   NA & NA\\\\\n",
       "\t1767 &   NA &  NA &   NA &   NA &   NA &   NA & 1.50 &   NA & 1.450 & 1.450 & 1.525 &   NA & NA\\\\\n",
       "\t1774 &   NA &  NA &   NA & 1.50 &   NA & 1.45 &   NA &   NA &    NA & 1.450 &    NA &   NA & NA\\\\\n",
       "\t1777 &   NA &  NA &   NA &   NA & 1.40 &   NA & 1.45 &   NA &    NA &    NA &    NA & 1.40 & NA\\\\\n",
       "\t1778 &   NA &  NA &   NA &   NA & 1.35 &   NA & 1.30 &   NA &    NA & 1.350 & 1.300 &   NA & NA\\\\\n",
       "\\end{tabular}\n"
      ],
      "text/markdown": [
       "\n",
       "A data.frame: 16 × 13\n",
       "\n",
       "| <!--/--> | year &lt;dbl&gt; | Jan &lt;dbl&gt; | Feb &lt;dbl&gt; | Mar &lt;dbl&gt; | Apr &lt;dbl&gt; | May &lt;dbl&gt; | Jun &lt;dbl&gt; | Jul &lt;dbl&gt; | Aug &lt;dbl&gt; | Set &lt;dbl&gt; | Oct &lt;dbl&gt; | Nov &lt;dbl&gt; | Dec &lt;lgl&gt; |\n",
       "|---|---|---|---|---|---|---|---|---|---|---|---|---|---|\n",
       "| 1747 |   NA |  NA |   NA |   NA |   NA | 1.50 | 1.30 |   NA |    NA | 1.250 |    NA | 1.45 | NA |\n",
       "| 1748 | 1.55 | 1.2 |   NA | 1.70 | 1.55 |   NA |   NA | 1.76 | 1.920 | 1.800 | 1.840 |   NA | NA |\n",
       "| 1749 |   NA |  NA |   NA |   NA | 2.00 | 1.65 |   NA | 1.35 |    NA |    NA |    NA |   NA | NA |\n",
       "| 1751 | 1.35 |  NA |   NA |   NA |   NA | 1.30 | 1.35 | 1.35 | 1.425 | 1.450 |    NA | 1.35 | NA |\n",
       "| 1752 | 1.25 |  NA | 2.35 | 1.90 |   NA |   NA |   NA |   NA | 1.775 |    NA |    NA | 1.65 | NA |\n",
       "| 1753 |   NA |  NA |   NA |   NA | 1.85 |   NA | 1.65 |   NA |    NA |    NA | 1.600 | 1.25 | NA |\n",
       "| 1754 |   NA |  NA |   NA |   NA |   NA | 1.65 |   NA |   NA | 2.250 | 2.000 | 2.450 | 2.20 | NA |\n",
       "| 1755 |   NA | 2.6 | 2.35 | 2.40 | 2.05 | 2.25 | 1.60 | 1.55 | 1.600 | 1.650 | 1.700 |   NA | NA |\n",
       "| 1756 |   NA | 1.3 | 1.60 | 1.40 |   NA |   NA | 1.35 | 1.30 | 1.225 |    NA |    NA |   NA | NA |\n",
       "| 1763 |   NA |  NA | 1.35 |   NA | 1.30 |   NA |   NA |   NA |    NA |    NA |    NA | 1.32 | NA |\n",
       "| 1764 |   NA | 1.6 | 1.80 | 1.75 |   NA | 1.65 |   NA | 1.70 |    NA | 1.625 | 1.750 |   NA | NA |\n",
       "| 1765 | 1.70 |  NA |   NA | 1.55 | 1.65 | 1.65 | 1.60 |   NA |    NA | 1.650 | 1.400 |   NA | NA |\n",
       "| 1767 |   NA |  NA |   NA |   NA |   NA |   NA | 1.50 |   NA | 1.450 | 1.450 | 1.525 |   NA | NA |\n",
       "| 1774 |   NA |  NA |   NA | 1.50 |   NA | 1.45 |   NA |   NA |    NA | 1.450 |    NA |   NA | NA |\n",
       "| 1777 |   NA |  NA |   NA |   NA | 1.40 |   NA | 1.45 |   NA |    NA |    NA |    NA | 1.40 | NA |\n",
       "| 1778 |   NA |  NA |   NA |   NA | 1.35 |   NA | 1.30 |   NA |    NA | 1.350 | 1.300 |   NA | NA |\n",
       "\n"
      ],
      "text/plain": [
       "     year Jan Feb  Mar  Apr  May  Jun  Jul  Aug   Set   Oct   Nov  Dec\n",
       "1747   NA  NA   NA   NA   NA 1.50 1.30   NA    NA 1.250    NA 1.45 NA \n",
       "1748 1.55 1.2   NA 1.70 1.55   NA   NA 1.76 1.920 1.800 1.840   NA NA \n",
       "1749   NA  NA   NA   NA 2.00 1.65   NA 1.35    NA    NA    NA   NA NA \n",
       "1751 1.35  NA   NA   NA   NA 1.30 1.35 1.35 1.425 1.450    NA 1.35 NA \n",
       "1752 1.25  NA 2.35 1.90   NA   NA   NA   NA 1.775    NA    NA 1.65 NA \n",
       "1753   NA  NA   NA   NA 1.85   NA 1.65   NA    NA    NA 1.600 1.25 NA \n",
       "1754   NA  NA   NA   NA   NA 1.65   NA   NA 2.250 2.000 2.450 2.20 NA \n",
       "1755   NA 2.6 2.35 2.40 2.05 2.25 1.60 1.55 1.600 1.650 1.700   NA NA \n",
       "1756   NA 1.3 1.60 1.40   NA   NA 1.35 1.30 1.225    NA    NA   NA NA \n",
       "1763   NA  NA 1.35   NA 1.30   NA   NA   NA    NA    NA    NA 1.32 NA \n",
       "1764   NA 1.6 1.80 1.75   NA 1.65   NA 1.70    NA 1.625 1.750   NA NA \n",
       "1765 1.70  NA   NA 1.55 1.65 1.65 1.60   NA    NA 1.650 1.400   NA NA \n",
       "1767   NA  NA   NA   NA   NA   NA 1.50   NA 1.450 1.450 1.525   NA NA \n",
       "1774   NA  NA   NA 1.50   NA 1.45   NA   NA    NA 1.450    NA   NA NA \n",
       "1777   NA  NA   NA   NA 1.40   NA 1.45   NA    NA    NA    NA 1.40 NA \n",
       "1778   NA  NA   NA   NA 1.35   NA 1.30   NA    NA 1.350 1.300   NA NA "
      ]
     },
     "metadata": {},
     "output_type": "display_data"
    }
   ],
   "source": [
    "q.rice"
   ]
  },
  {
   "cell_type": "markdown",
   "id": "da3bc4e0",
   "metadata": {},
   "source": [
    "### 載入Zoo套件\n"
   ]
  },
  {
   "cell_type": "code",
   "execution_count": 13,
   "id": "c70f735b",
   "metadata": {},
   "outputs": [],
   "source": [
    "library(zoo)"
   ]
  },
  {
   "cell_type": "code",
   "execution_count": null,
   "id": "ce50356d",
   "metadata": {},
   "outputs": [],
   "source": []
  },
  {
   "cell_type": "code",
   "execution_count": null,
   "id": "7b9234b7",
   "metadata": {},
   "outputs": [],
   "source": [
    "# 將空白值替換為NA\n",
    "q.rice[q.rice == \"\"] <- NA\n"
   ]
  },
  {
   "cell_type": "code",
   "execution_count": null,
   "id": "7dc460bd",
   "metadata": {},
   "outputs": [],
   "source": [
    "# 轉換數據為數字\n",
    "q.rice[, 2:13] <- apply(q.rice[, 2:13], 2, function(x) as.numeric(as.character(x)))"
   ]
  },
  {
   "cell_type": "markdown",
   "id": "ac2566d1",
   "metadata": {},
   "source": [
    "\n",
    "q.rice_filled[, 2:13] <- apply(q.rice[, 2:13], 2, function(x) na.approx(x, rule = 2))\n",
    "\n",
    "在這裡，function(x) 是用來定義一個匿名函數（也叫無名函數或者內聯函數），意味著這個函數在定義時沒有給它指定一個名字。這樣可以讓你在調用 apply() 函數時直接定義並使用一個函數，而無需預先定義該函數並為其命名。\n",
    "\n",
    "function(x) 的作用如下：接收一個名為 x 的參數，這個參數會在應用函數時自動替換為每一列的值。實現函數主體功能，這裡是將 x 轉換為字符（as.character(x)），然後將字符轉換為數字值（as.numeric）。\n",
    "apply() 函數將該函數一列一列地應用到 q.rice[, 2:13]。在這種情況下，匿名函數（function(x)）允許我們方便地編寫和使用一個簡單的函數，而不需要編寫單獨的命名函數。這使得程式碼更簡潔，易於閱讀和理解。"
   ]
  },
  {
   "cell_type": "code",
   "execution_count": null,
   "id": "f2d145bc",
   "metadata": {},
   "outputs": [],
   "source": [
    "# 使用相鄰月份平均值填補空白值\n",
    "q.rice_filled <- q.rice\n",
    "q.rice_filled[, 2:13] <- apply(q.rice[, 2:13], 2, function(x) na.approx(x, rule = 2))\n",
    "q.rice_mean <- data.frame(Year = q.rice_filled$year, Mean_Price = rowMeans(q.rice_filled[, 2:13], na.rm = TRUE))"
   ]
  },
  {
   "cell_type": "code",
   "execution_count": null,
   "id": "555bdb79",
   "metadata": {},
   "outputs": [],
   "source": []
  },
  {
   "cell_type": "code",
   "execution_count": null,
   "id": "d85ed23d",
   "metadata": {},
   "outputs": [],
   "source": [
    "q.rice_mean"
   ]
  }
 ],
 "metadata": {
  "kernelspec": {
   "display_name": "R",
   "language": "R",
   "name": "ir"
  },
  "language_info": {
   "codemirror_mode": "r",
   "file_extension": ".r",
   "mimetype": "text/x-r-source",
   "name": "R",
   "pygments_lexer": "r",
   "version": "4.2.3"
  }
 },
 "nbformat": 4,
 "nbformat_minor": 5
}
